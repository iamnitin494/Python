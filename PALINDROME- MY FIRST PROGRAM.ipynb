{
 "cells": [
  {
   "cell_type": "code",
   "execution_count": 1,
   "metadata": {},
   "outputs": [
    {
     "name": "stdout",
     "output_type": "stream",
     "text": [
      "enter string abhi\n",
      "it is not a palindrome\n"
     ]
    }
   ],
   "source": [
    "a = input(\"enter string \")\n",
    "len(a)\n",
    "i=0\n",
    "\n",
    "while i< len(a):\n",
    "    c=a[i]\n",
    "    \n",
    "    i=i+1\n",
    "b=-1    \n",
    "while b> (-len(a)-1):\n",
    "        d=a[b]\n",
    "        \n",
    "        b= b-1\n",
    "\n",
    "if c == d:\n",
    "    print('it is a palindrome')\n",
    "else:\n",
    "    print(\"it is not a palindrome\")    \n",
    "    \n",
    "    \n"
   ]
  },
  {
   "cell_type": "code",
   "execution_count": null,
   "metadata": {},
   "outputs": [],
   "source": []
  }
 ],
 "metadata": {
  "kernelspec": {
   "display_name": "Python 3",
   "language": "python",
   "name": "python3"
  },
  "language_info": {
   "codemirror_mode": {
    "name": "ipython",
    "version": 3
   },
   "file_extension": ".py",
   "mimetype": "text/x-python",
   "name": "python",
   "nbconvert_exporter": "python",
   "pygments_lexer": "ipython3",
   "version": "3.7.1"
  }
 },
 "nbformat": 4,
 "nbformat_minor": 2
}
